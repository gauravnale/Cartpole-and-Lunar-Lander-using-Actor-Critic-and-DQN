{
  "cells": [
    {
      "cell_type": "markdown",
      "metadata": {
        "id": "BSjb-zwKzJSW"
      },
      "source": [
        "# CSE 6369 - Spring 2023 - Homework 2 (Actor-Critic)\n",
        "\n",
        "\n",
        "## Student Name: Gaurav Dilip Nale \n",
        "\n",
        "\n",
        "## Student ID: 1001859699"
      ]
    },
    {
      "cell_type": "code",
      "source": [
        "from google.colab import drive\n",
        "drive.mount('/content/drive')"
      ],
      "metadata": {
        "colab": {
          "base_uri": "https://localhost:8080/"
        },
        "id": "AqO_pMpYBZFJ",
        "outputId": "806b7433-31e1-48e8-8459-8bbfb3b57749"
      },
      "execution_count": 2,
      "outputs": [
        {
          "output_type": "stream",
          "name": "stdout",
          "text": [
            "Mounted at /content/drive\n"
          ]
        }
      ]
    },
    {
      "cell_type": "code",
      "source": [
        "from google.colab import files\n",
        "upload = files.upload()"
      ],
      "metadata": {
        "colab": {
          "base_uri": "https://localhost:8080/",
          "height": 107
        },
        "id": "MQzZ-VkfBhpt",
        "outputId": "11b04570-8880-4af9-f058-7d28e10c7b4d"
      },
      "execution_count": 3,
      "outputs": [
        {
          "output_type": "display_data",
          "data": {
            "text/plain": [
              "<IPython.core.display.HTML object>"
            ],
            "text/html": [
              "\n",
              "     <input type=\"file\" id=\"files-c72300c5-79da-4f12-8603-2683ba20b841\" name=\"files[]\" multiple disabled\n",
              "        style=\"border:none\" />\n",
              "     <output id=\"result-c72300c5-79da-4f12-8603-2683ba20b841\">\n",
              "      Upload widget is only available when the cell has been executed in the\n",
              "      current browser session. Please rerun this cell to enable.\n",
              "      </output>\n",
              "      <script>// Copyright 2017 Google LLC\n",
              "//\n",
              "// Licensed under the Apache License, Version 2.0 (the \"License\");\n",
              "// you may not use this file except in compliance with the License.\n",
              "// You may obtain a copy of the License at\n",
              "//\n",
              "//      http://www.apache.org/licenses/LICENSE-2.0\n",
              "//\n",
              "// Unless required by applicable law or agreed to in writing, software\n",
              "// distributed under the License is distributed on an \"AS IS\" BASIS,\n",
              "// WITHOUT WARRANTIES OR CONDITIONS OF ANY KIND, either express or implied.\n",
              "// See the License for the specific language governing permissions and\n",
              "// limitations under the License.\n",
              "\n",
              "/**\n",
              " * @fileoverview Helpers for google.colab Python module.\n",
              " */\n",
              "(function(scope) {\n",
              "function span(text, styleAttributes = {}) {\n",
              "  const element = document.createElement('span');\n",
              "  element.textContent = text;\n",
              "  for (const key of Object.keys(styleAttributes)) {\n",
              "    element.style[key] = styleAttributes[key];\n",
              "  }\n",
              "  return element;\n",
              "}\n",
              "\n",
              "// Max number of bytes which will be uploaded at a time.\n",
              "const MAX_PAYLOAD_SIZE = 100 * 1024;\n",
              "\n",
              "function _uploadFiles(inputId, outputId) {\n",
              "  const steps = uploadFilesStep(inputId, outputId);\n",
              "  const outputElement = document.getElementById(outputId);\n",
              "  // Cache steps on the outputElement to make it available for the next call\n",
              "  // to uploadFilesContinue from Python.\n",
              "  outputElement.steps = steps;\n",
              "\n",
              "  return _uploadFilesContinue(outputId);\n",
              "}\n",
              "\n",
              "// This is roughly an async generator (not supported in the browser yet),\n",
              "// where there are multiple asynchronous steps and the Python side is going\n",
              "// to poll for completion of each step.\n",
              "// This uses a Promise to block the python side on completion of each step,\n",
              "// then passes the result of the previous step as the input to the next step.\n",
              "function _uploadFilesContinue(outputId) {\n",
              "  const outputElement = document.getElementById(outputId);\n",
              "  const steps = outputElement.steps;\n",
              "\n",
              "  const next = steps.next(outputElement.lastPromiseValue);\n",
              "  return Promise.resolve(next.value.promise).then((value) => {\n",
              "    // Cache the last promise value to make it available to the next\n",
              "    // step of the generator.\n",
              "    outputElement.lastPromiseValue = value;\n",
              "    return next.value.response;\n",
              "  });\n",
              "}\n",
              "\n",
              "/**\n",
              " * Generator function which is called between each async step of the upload\n",
              " * process.\n",
              " * @param {string} inputId Element ID of the input file picker element.\n",
              " * @param {string} outputId Element ID of the output display.\n",
              " * @return {!Iterable<!Object>} Iterable of next steps.\n",
              " */\n",
              "function* uploadFilesStep(inputId, outputId) {\n",
              "  const inputElement = document.getElementById(inputId);\n",
              "  inputElement.disabled = false;\n",
              "\n",
              "  const outputElement = document.getElementById(outputId);\n",
              "  outputElement.innerHTML = '';\n",
              "\n",
              "  const pickedPromise = new Promise((resolve) => {\n",
              "    inputElement.addEventListener('change', (e) => {\n",
              "      resolve(e.target.files);\n",
              "    });\n",
              "  });\n",
              "\n",
              "  const cancel = document.createElement('button');\n",
              "  inputElement.parentElement.appendChild(cancel);\n",
              "  cancel.textContent = 'Cancel upload';\n",
              "  const cancelPromise = new Promise((resolve) => {\n",
              "    cancel.onclick = () => {\n",
              "      resolve(null);\n",
              "    };\n",
              "  });\n",
              "\n",
              "  // Wait for the user to pick the files.\n",
              "  const files = yield {\n",
              "    promise: Promise.race([pickedPromise, cancelPromise]),\n",
              "    response: {\n",
              "      action: 'starting',\n",
              "    }\n",
              "  };\n",
              "\n",
              "  cancel.remove();\n",
              "\n",
              "  // Disable the input element since further picks are not allowed.\n",
              "  inputElement.disabled = true;\n",
              "\n",
              "  if (!files) {\n",
              "    return {\n",
              "      response: {\n",
              "        action: 'complete',\n",
              "      }\n",
              "    };\n",
              "  }\n",
              "\n",
              "  for (const file of files) {\n",
              "    const li = document.createElement('li');\n",
              "    li.append(span(file.name, {fontWeight: 'bold'}));\n",
              "    li.append(span(\n",
              "        `(${file.type || 'n/a'}) - ${file.size} bytes, ` +\n",
              "        `last modified: ${\n",
              "            file.lastModifiedDate ? file.lastModifiedDate.toLocaleDateString() :\n",
              "                                    'n/a'} - `));\n",
              "    const percent = span('0% done');\n",
              "    li.appendChild(percent);\n",
              "\n",
              "    outputElement.appendChild(li);\n",
              "\n",
              "    const fileDataPromise = new Promise((resolve) => {\n",
              "      const reader = new FileReader();\n",
              "      reader.onload = (e) => {\n",
              "        resolve(e.target.result);\n",
              "      };\n",
              "      reader.readAsArrayBuffer(file);\n",
              "    });\n",
              "    // Wait for the data to be ready.\n",
              "    let fileData = yield {\n",
              "      promise: fileDataPromise,\n",
              "      response: {\n",
              "        action: 'continue',\n",
              "      }\n",
              "    };\n",
              "\n",
              "    // Use a chunked sending to avoid message size limits. See b/62115660.\n",
              "    let position = 0;\n",
              "    do {\n",
              "      const length = Math.min(fileData.byteLength - position, MAX_PAYLOAD_SIZE);\n",
              "      const chunk = new Uint8Array(fileData, position, length);\n",
              "      position += length;\n",
              "\n",
              "      const base64 = btoa(String.fromCharCode.apply(null, chunk));\n",
              "      yield {\n",
              "        response: {\n",
              "          action: 'append',\n",
              "          file: file.name,\n",
              "          data: base64,\n",
              "        },\n",
              "      };\n",
              "\n",
              "      let percentDone = fileData.byteLength === 0 ?\n",
              "          100 :\n",
              "          Math.round((position / fileData.byteLength) * 100);\n",
              "      percent.textContent = `${percentDone}% done`;\n",
              "\n",
              "    } while (position < fileData.byteLength);\n",
              "  }\n",
              "\n",
              "  // All done.\n",
              "  yield {\n",
              "    response: {\n",
              "      action: 'complete',\n",
              "    }\n",
              "  };\n",
              "}\n",
              "\n",
              "scope.google = scope.google || {};\n",
              "scope.google.colab = scope.google.colab || {};\n",
              "scope.google.colab._files = {\n",
              "  _uploadFiles,\n",
              "  _uploadFilesContinue,\n",
              "};\n",
              "})(self);\n",
              "</script> "
            ]
          },
          "metadata": {}
        },
        {
          "output_type": "stream",
          "name": "stdout",
          "text": [
            "Saving learning_algorithms.py to learning_algorithms.py\n",
            "Saving utils.py to utils.py\n"
          ]
        }
      ]
    },
    {
      "cell_type": "markdown",
      "metadata": {
        "id": "qg05ESogmSng"
      },
      "source": [
        "# Install packages"
      ]
    },
    {
      "cell_type": "code",
      "execution_count": 6,
      "metadata": {
        "id": "ZU6o_mdnmMAR"
      },
      "outputs": [],
      "source": [
        "!pip install gymnasium==0.27.1 -q\n",
        "!pip install gymnasium[box2d] -q\n",
        "!pip install moviepy -q\n",
        "!pip install -U kora -q"
      ]
    },
    {
      "cell_type": "markdown",
      "metadata": {
        "id": "lLDP4n6cmEuZ"
      },
      "source": [
        "# Import libraries"
      ]
    },
    {
      "cell_type": "code",
      "execution_count": 7,
      "metadata": {
        "id": "-e69d4FGlaGd",
        "colab": {
          "base_uri": "https://localhost:8080/"
        },
        "outputId": "1d9705d4-f99b-4f24-c25d-1adbe5593129"
      },
      "outputs": [
        {
          "output_type": "stream",
          "name": "stdout",
          "text": [
            "Mounted at /content/gdrive\n",
            "[Errno 2] No such file or directory: 'gdrive/MyDrive/hw2/'\n",
            "/content\n"
          ]
        }
      ],
      "source": [
        "import pickle\n",
        "import random\n",
        "import argparse\n",
        "import moviepy\n",
        "import matplotlib.pyplot as plt\n",
        "import seaborn as sns\n",
        "from kora.drive import upload_public\n",
        "from google.colab import drive\n",
        "\n",
        "drive.mount('/content/gdrive')\n",
        "%cd gdrive/MyDrive/hw2/\n",
        "\n",
        "from learning_algorithms import ACTrainer\n",
        "from utils import seed_everything"
      ]
    },
    {
      "cell_type": "markdown",
      "metadata": {
        "id": "A9-qFcWVpzGc"
      },
      "source": [
        "# Train an agent"
      ]
    },
    {
      "cell_type": "code",
      "execution_count": null,
      "metadata": {
        "id": "n0hSISzelkYw",
        "colab": {
          "base_uri": "https://localhost:8080/"
        },
        "outputId": "64170def-f8b7-4a1e-8d3d-242adac85910"
      },
      "outputs": [
        {
          "output_type": "stream",
          "name": "stdout",
          "text": [
            "tensor(-6555.1646, grad_fn=<MeanBackward0>)\n",
            "End of rollout 0: Average trajectory reward is -209.38\n",
            "tensor(-3209.3203, grad_fn=<MeanBackward0>)\n",
            "End of rollout 1: Average trajectory reward is -171.74\n",
            "tensor(-3944.3459, grad_fn=<MeanBackward0>)\n",
            "End of rollout 2: Average trajectory reward is -175.30\n",
            "tensor(-3193.1619, grad_fn=<MeanBackward0>)\n",
            "End of rollout 3: Average trajectory reward is -160.83\n",
            "tensor(-1478.6609, grad_fn=<MeanBackward0>)\n",
            "End of rollout 4: Average trajectory reward is -143.62\n",
            "tensor(345.6136, grad_fn=<MeanBackward0>)\n",
            "End of rollout 5: Average trajectory reward is -118.36\n",
            "tensor(-1587.1411, grad_fn=<MeanBackward0>)\n",
            "End of rollout 6: Average trajectory reward is -140.61\n",
            "tensor(-682.4579, grad_fn=<MeanBackward0>)\n",
            "End of rollout 7: Average trajectory reward is -130.62\n",
            "tensor(1390.4297, grad_fn=<MeanBackward0>)\n",
            "End of rollout 8: Average trajectory reward is -107.89\n",
            "tensor(-977.3533, grad_fn=<MeanBackward0>)\n",
            "End of rollout 9: Average trajectory reward is -124.91\n",
            "tensor(-373.4896, grad_fn=<MeanBackward0>)\n",
            "End of rollout 10: Average trajectory reward is -126.07\n",
            "tensor(-496.5071, grad_fn=<MeanBackward0>)\n",
            "End of rollout 11: Average trajectory reward is -126.13\n",
            "tensor(8.4090, grad_fn=<MeanBackward0>)\n",
            "End of rollout 12: Average trajectory reward is -123.62\n",
            "tensor(1707.4492, grad_fn=<MeanBackward0>)\n",
            "End of rollout 13: Average trajectory reward is -103.92\n",
            "tensor(-125.4086, grad_fn=<MeanBackward0>)\n",
            "End of rollout 14: Average trajectory reward is -115.86\n",
            "tensor(-352.0915, grad_fn=<MeanBackward0>)\n",
            "End of rollout 15: Average trajectory reward is -124.67\n",
            "tensor(626.9108, grad_fn=<MeanBackward0>)\n",
            "End of rollout 16: Average trajectory reward is -113.24\n",
            "tensor(1178.4139, grad_fn=<MeanBackward0>)\n",
            "End of rollout 17: Average trajectory reward is -105.10\n",
            "tensor(1689.8102, grad_fn=<MeanBackward0>)\n",
            "End of rollout 18: Average trajectory reward is -100.87\n",
            "tensor(517.8484, grad_fn=<MeanBackward0>)\n",
            "End of rollout 19: Average trajectory reward is -110.89\n",
            "tensor(1239.5787, grad_fn=<MeanBackward0>)\n",
            "End of rollout 20: Average trajectory reward is -95.55\n",
            "tensor(2236.1255, grad_fn=<MeanBackward0>)\n",
            "End of rollout 21: Average trajectory reward is -92.48\n",
            "tensor(2057.5708, grad_fn=<MeanBackward0>)\n",
            "End of rollout 22: Average trajectory reward is -95.00\n",
            "tensor(2472.2473, grad_fn=<MeanBackward0>)\n",
            "End of rollout 23: Average trajectory reward is -91.37\n",
            "tensor(2905.1677, grad_fn=<MeanBackward0>)\n",
            "End of rollout 24: Average trajectory reward is -85.25\n",
            "tensor(2303.4182, grad_fn=<MeanBackward0>)\n",
            "End of rollout 25: Average trajectory reward is -89.61\n",
            "tensor(2387.2583, grad_fn=<MeanBackward0>)\n",
            "End of rollout 26: Average trajectory reward is -87.71\n",
            "tensor(2757.8423, grad_fn=<MeanBackward0>)\n",
            "End of rollout 27: Average trajectory reward is -82.17\n",
            "tensor(2659.4915, grad_fn=<MeanBackward0>)\n",
            "End of rollout 28: Average trajectory reward is -82.80\n",
            "tensor(2989.0847, grad_fn=<MeanBackward0>)\n",
            "End of rollout 29: Average trajectory reward is -84.23\n",
            "tensor(3204.7041, grad_fn=<MeanBackward0>)\n",
            "End of rollout 30: Average trajectory reward is -74.55\n",
            "tensor(2478.4150, grad_fn=<MeanBackward0>)\n",
            "End of rollout 31: Average trajectory reward is -84.10\n",
            "tensor(3141.1130, grad_fn=<MeanBackward0>)\n",
            "End of rollout 32: Average trajectory reward is -80.29\n",
            "tensor(3310.1482, grad_fn=<MeanBackward0>)\n",
            "End of rollout 33: Average trajectory reward is -69.13\n",
            "tensor(2771.6355, grad_fn=<MeanBackward0>)\n",
            "End of rollout 34: Average trajectory reward is -75.52\n",
            "tensor(3663.1802, grad_fn=<MeanBackward0>)\n",
            "End of rollout 35: Average trajectory reward is -69.72\n",
            "tensor(4003.6206, grad_fn=<MeanBackward0>)\n",
            "End of rollout 36: Average trajectory reward is -66.13\n",
            "tensor(4513.1099, grad_fn=<MeanBackward0>)\n",
            "End of rollout 37: Average trajectory reward is -57.28\n",
            "tensor(1024.7638, grad_fn=<MeanBackward0>)\n",
            "End of rollout 38: Average trajectory reward is -77.22\n",
            "tensor(6566.6123, grad_fn=<MeanBackward0>)\n",
            "End of rollout 39: Average trajectory reward is -45.55\n",
            "tensor(4394.3384, grad_fn=<MeanBackward0>)\n",
            "End of rollout 40: Average trajectory reward is -53.50\n",
            "tensor(4785.2021, grad_fn=<MeanBackward0>)\n",
            "End of rollout 41: Average trajectory reward is -50.46\n",
            "tensor(4613.8130, grad_fn=<MeanBackward0>)\n",
            "End of rollout 42: Average trajectory reward is -49.93\n",
            "tensor(5114.9141, grad_fn=<MeanBackward0>)\n",
            "End of rollout 43: Average trajectory reward is -43.64\n",
            "tensor(4882.1021, grad_fn=<MeanBackward0>)\n",
            "End of rollout 44: Average trajectory reward is -55.21\n",
            "tensor(5455.7666, grad_fn=<MeanBackward0>)\n",
            "End of rollout 45: Average trajectory reward is -50.73\n",
            "tensor(6232.5630, grad_fn=<MeanBackward0>)\n",
            "End of rollout 46: Average trajectory reward is -43.46\n",
            "tensor(6666.3281, grad_fn=<MeanBackward0>)\n",
            "End of rollout 47: Average trajectory reward is -23.43\n",
            "tensor(6300.3721, grad_fn=<MeanBackward0>)\n",
            "End of rollout 48: Average trajectory reward is -35.17\n",
            "tensor(6193.2607, grad_fn=<MeanBackward0>)\n",
            "End of rollout 49: Average trajectory reward is -33.56\n",
            "tensor(6043.7593, grad_fn=<MeanBackward0>)\n",
            "End of rollout 50: Average trajectory reward is -34.14\n",
            "tensor(5598.7368, grad_fn=<MeanBackward0>)\n",
            "End of rollout 51: Average trajectory reward is -24.41\n",
            "tensor(5840.6714, grad_fn=<MeanBackward0>)\n",
            "End of rollout 52: Average trajectory reward is -23.03\n",
            "tensor(7494.6167, grad_fn=<MeanBackward0>)\n",
            "End of rollout 53: Average trajectory reward is -21.27\n",
            "tensor(2908.1411, grad_fn=<MeanBackward0>)\n",
            "End of rollout 54: Average trajectory reward is -25.50\n",
            "tensor(5835.5518, grad_fn=<MeanBackward0>)\n",
            "End of rollout 55: Average trajectory reward is -17.65\n",
            "tensor(7432.7310, grad_fn=<MeanBackward0>)\n",
            "End of rollout 56: Average trajectory reward is -18.83\n"
          ]
        }
      ],
      "source": [
        "# set simulation parameters\n",
        "params = {\n",
        "    'env_name': 'LunarLander-v2',\n",
        "    'rng_seed': 6369,\n",
        "    'n_rollout': 100,\n",
        "    'n_trajectory_per_rollout': 60,\n",
        "    'n_critic_iter': 1,\n",
        "    'n_critic_epoch': 1,\n",
        "    'hidden_dim': 128,\n",
        "    'actor_lr': 3e-3,\n",
        "    'critic_lr': 3e-4,\n",
        "    'exp_name': 'LunarLander_v2_t0'\n",
        "}\n",
        "\n",
        "# Seed RNGs\n",
        "seed_everything(params['rng_seed'])\n",
        "\n",
        "# Train agent\n",
        "trainer = ACTrainer(params)\n",
        "trainer.run_training_loop()"
      ]
    },
    {
      "cell_type": "markdown",
      "metadata": {
        "id": "MFBDYmdAwWUg"
      },
      "source": [
        "# Display Video"
      ]
    },
    {
      "cell_type": "code",
      "execution_count": null,
      "metadata": {
        "id": "FZn9tuKXwVgZ"
      },
      "outputs": [],
      "source": [
        "# (ref: https://stackoverflow.com/questions/48376580/google-colab-how-to-read-data-from-my-google-drive)\n",
        "# Upload video\n",
        "url = upload_public('LunarLander/rl-video-episode-0.mp4')\n",
        "# Then display it\n",
        "from IPython.display import HTML\n",
        "HTML(f\"\"\"<video src={url} width=500 controls/>\"\"\")"
      ]
    },
    {
      "cell_type": "markdown",
      "metadata": {
        "id": "2hE4ZI8ZocXH"
      },
      "source": [
        "# Visualize learning curve"
      ]
    },
    {
      "cell_type": "code",
      "execution_count": null,
      "metadata": {
        "id": "rSM3mWLnmsYY"
      },
      "outputs": [],
      "source": [
        "# (ref: http://rail.eecs.berkeley.edu/deeprlcourse/static/misc/viz.pdf)\n",
        "file_name = params['exp_name'] + '.pkl'\n",
        "with open(file_name, 'rb') as f:\n",
        "    ro_reward = pickle.load(f)\n",
        "\n",
        "# Plot the data\n",
        "sns.lineplot(data=ro_reward, linestyle='--', label='tr1')\n",
        "plt.xlabel('rollout', fontsize=25, labelpad=-2)\n",
        "plt.ylabel('reward', fontsize=25)\n",
        "plt.title('Learning curve for LunarLander with Actor-Critic', fontsize=30)\n",
        "plt.legend()\n",
        "plt.grid()\n",
        "plt.show()"
      ]
    },
    {
      "cell_type": "code",
      "execution_count": null,
      "metadata": {
        "id": "ffcw6OL1hA2t"
      },
      "outputs": [],
      "source": [
        "# (ref: http://rail.eecs.berkeley.edu/deeprlcourse/static/misc/viz.pdf)\n",
        "file_name = 'LunarLander_v2_t1.pkl'\n",
        "with open(file_name, 'rb') as f:\n",
        "    ro_reward = pickle.load(f)\n",
        "\n",
        "# Plot the data\n",
        "sns.lineplot(data=ro_reward, linestyle='--', label='tr1')\n",
        "plt.xlabel('rollout', fontsize=25, labelpad=-2)\n",
        "plt.ylabel('reward', fontsize=25)\n",
        "plt.title('Learning curve for LunarLander with Actor-Critic', fontsize=30)\n",
        "plt.legend()\n",
        "plt.grid()\n",
        "plt.show()"
      ]
    }
  ],
  "metadata": {
    "colab": {
      "provenance": []
    },
    "gpuClass": "standard",
    "kernelspec": {
      "display_name": "Python 3.8.9 64-bit",
      "language": "python",
      "name": "python3"
    },
    "language_info": {
      "name": "python",
      "version": "3.8.9"
    },
    "vscode": {
      "interpreter": {
        "hash": "31f2aee4e71d21fbe5cf8b01ff0e069b9275f58929596ceb00d14d90e3e16cd6"
      }
    }
  },
  "nbformat": 4,
  "nbformat_minor": 0
}